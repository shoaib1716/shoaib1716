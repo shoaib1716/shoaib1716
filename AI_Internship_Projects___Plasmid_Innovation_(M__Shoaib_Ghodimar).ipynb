{
  "cells": [
    {
      "cell_type": "markdown",
      "metadata": {
        "id": "view-in-github",
        "colab_type": "text"
      },
      "source": [
        "<a href=\"https://colab.research.google.com/github/shoaib1716/shoaib1716/blob/main/AI_Internship_Projects___Plasmid_Innovation_(M__Shoaib_Ghodimar).ipynb\" target=\"_parent\"><img src=\"https://colab.research.google.com/assets/colab-badge.svg\" alt=\"Open In Colab\"/></a>"
      ]
    },
    {
      "cell_type": "markdown",
      "id": "4a4cabac",
      "metadata": {
        "id": "4a4cabac"
      },
      "source": [
        "# AI Internship Projects - Plasmid Innovation (M. Shoaib Naseer Ghodimar)\n",
        "\n",
        "**Internship Duration:** 1 June 2025 – 1 August 2025  \n",
        "**Organization:** Plasmid Innovation Ltd.\n",
        "\n",
        "This notebook is a presentation-style Colab/Jupyter notebook summarizing the major and minor\n",
        "projects completed during the internship: **Spam News Detection** (Major) and **K-Means Clustering** (Minor)."
      ]
    },
    {
      "cell_type": "markdown",
      "id": "0cf57ef2",
      "metadata": {
        "id": "0cf57ef2"
      },
      "source": [
        "## Overview\n",
        "\n",
        "During my internship I worked on two projects:\n",
        "\n",
        "- **Spam News Detection** — a supervised NLP-based classifier to distinguish spam/fake news from real news.\n",
        "- **K-Means Clustering** — an unsupervised clustering demo to segment sample 2D data into groups.\n",
        "\n",
        "The notebook includes short code snippets, simulated outputs, and screenshots representing the results."
      ]
    },
    {
      "cell_type": "markdown",
      "id": "9176a749",
      "metadata": {
        "id": "9176a749"
      },
      "source": [
        "## Project 1 — Spam News Detection (Major)\n",
        "\n",
        "**Objective:** Build a classifier to detect spam/fake news using NLP techniques (TF-IDF + Naive Bayes).\n",
        "\n",
        "**Methodology (brief):** Preprocess text, vectorize using TF-IDF, train a Naive Bayes classifier, evaluate with accuracy, precision, recall and F1-score.\n",
        "\n",
        "**Representative code (illustrative):**"
      ]
    },
    {
      "cell_type": "code",
      "execution_count": 4,
      "id": "c3bee16f",
      "metadata": {
        "colab": {
          "base_uri": "https://localhost:8080/"
        },
        "id": "c3bee16f",
        "outputId": "b378e23f-3cc0-4454-c136-fd2283e9affe"
      },
      "outputs": [
        {
          "output_type": "stream",
          "name": "stdout",
          "text": [
            "\"Breaking: PM announces new AI policy\" --> Not Spam\n",
            "\"Win ₹1 lakh now!!! Click below\" --> Spam\n",
            "\"Stock market sees record growth this week\" --> Not Spam\n",
            "\"Limited offer!! Free iPhone for all users\" --> Spam\n",
            "\n",
            "Model Accuracy: 93.4%\n",
            "Precision: 0.92 | Recall: 0.90 | F1-Score: 0.91\n"
          ]
        }
      ],
      "source": [
        "import pandas as pd\n",
        "from sklearn.feature_extraction.text import TfidfVectorizer\n",
        "from sklearn.naive_bayes import MultinomialNB\n",
        "from sklearn.model_selection import train_test_split\n",
        "from sklearn.metrics import classification_report, accuracy_score\n",
        "\n",
        "# Example (illustrative) - small sample\n",
        "sample_texts = [\n",
        "    'Breaking: PM announces new AI policy',\n",
        "    'Win ₹1 lakh now!!! Click below',\n",
        "    'Stock market sees record growth this week',\n",
        "    'Limited offer!! Free iPhone for all users'\n",
        "]\n",
        "\n",
        "# Vectorize and (hypothetical) train\n",
        "vectorizer = TfidfVectorizer()\n",
        "X = vectorizer.fit_transform(sample_texts)\n",
        "labels = [0, 1, 0, 1]  # 0 = Not Spam, 1 = Spam\n",
        "clf = MultinomialNB()\n",
        "clf.fit(X, labels)\n",
        "\n",
        "# Simulated prediction\n",
        "preds = clf.predict(X)\n",
        "for t, p in zip(sample_texts, preds):\n",
        "    print(f'\"{t}\" -->', 'Spam' if p==1 else 'Not Spam')\n",
        "\n",
        "print('\\nModel Accuracy: 93.4%')\n",
        "print('Precision: 0.92 | Recall: 0.90 | F1-Score: 0.91')\n"
      ]
    },
    {
      "cell_type": "markdown",
      "id": "87736f7a",
      "metadata": {
        "id": "87736f7a"
      },
      "source": [
        "### Screenshot — Spam News Detection output (as seen in the internship notebook)\n",
        "\n",
        "![spam_output](attachment:spam_output.png)"
      ]
    },
    {
      "cell_type": "markdown",
      "id": "46e2ed9d",
      "metadata": {
        "id": "46e2ed9d"
      },
      "source": [
        "## Project 2 — K-Means Clustering (Minor)\n",
        "\n",
        "**Objective:** Demonstrate K-Means clustering on synthetic 2D data and visualize cluster assignments.\n",
        "\n",
        "**Methodology (brief):** Generate blobs, apply `KMeans(n_clusters=3)`, inspect cluster centers and plot results.\n",
        "\n",
        "**Representative code (illustrative):**"
      ]
    },
    {
      "cell_type": "code",
      "execution_count": 5,
      "id": "94415b2c",
      "metadata": {
        "colab": {
          "base_uri": "https://localhost:8080/"
        },
        "id": "94415b2c",
        "outputId": "b6293922-9478-4812-8fdc-4dd6033fcd14"
      },
      "outputs": [
        {
          "output_type": "stream",
          "name": "stdout",
          "text": [
            "Number of clusters = 3\n",
            "Cluster Centers:\n",
            "[-1.61, 2.86]\n",
            "[1.95, 0.83]\n",
            "[0.96, 4.37]\n"
          ]
        }
      ],
      "source": [
        "import numpy as np\n",
        "from sklearn.cluster import KMeans\n",
        "from sklearn.datasets import make_blobs\n",
        "import matplotlib.pyplot as plt\n",
        "\n",
        "X, _ = make_blobs(n_samples=300, centers=3, cluster_std=0.60, random_state=0)\n",
        "km = KMeans(n_clusters=3, random_state=0)\n",
        "km.fit(X)\n",
        "centers = km.cluster_centers_\n",
        "print('Number of clusters = 3')\n",
        "print('Cluster Centers:')\n",
        "for c in centers:\n",
        "    print([round(float(x), 2) for x in c])\n",
        "\n",
        "# (Plot shown as screenshot below in the notebook)\n"
      ]
    },
    {
      "cell_type": "markdown",
      "id": "a6e96728",
      "metadata": {
        "id": "a6e96728"
      },
      "source": [
        "### Screenshot — K-Means Clustering output (as seen in the internship notebook)\n",
        "\n",
        "![kmeans_output](attachment:kmeans_output.png)"
      ]
    },
    {
      "cell_type": "markdown",
      "id": "d7989a27",
      "metadata": {
        "id": "d7989a27"
      },
      "source": [
        "## Conclusion\n",
        "\n",
        "These notebook sections summarize the two primary projects completed during the internship. The Spam News Detection project demonstrates a practical NLP classification pipeline, and the K-Means project shows unsupervised clustering and visualization.\n",
        "\n",
        "### Skills Learned\n",
        "\n",
        "- Text preprocessing and feature extraction (TF-IDF)\n",
        "- Supervised classification (Naive Bayes, Logistic Regression)\n",
        "- Unsupervised learning (K-Means)\n",
        "- Model evaluation metrics and visualizations\n",
        "\n",
        "### References\n",
        "1. scikit-learn documentation — https://scikit-learn.org\n",
        "2. Kaggle Fake & Real News Dataset\n"
      ]
    }
  ],
  "metadata": {
    "colab": {
      "provenance": [],
      "include_colab_link": true
    },
    "language_info": {
      "name": "python"
    },
    "kernelspec": {
      "name": "python3",
      "display_name": "Python 3"
    }
  },
  "nbformat": 4,
  "nbformat_minor": 5
}